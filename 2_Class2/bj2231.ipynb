{
 "cells": [
  {
   "cell_type": "code",
   "execution_count": 5,
   "metadata": {},
   "outputs": [
    {
     "name": "stdout",
     "output_type": "stream",
     "text": [
      "216\n"
     ]
    }
   ],
   "source": [
    "n = int(input())"
   ]
  },
  {
   "cell_type": "code",
   "execution_count": 6,
   "metadata": {},
   "outputs": [
    {
     "name": "stdout",
     "output_type": "stream",
     "text": [
      "199\n"
     ]
    }
   ],
   "source": [
    "a = int(str(int(str(n)[0])-1) + '9'*(len(str(n))-1))\n",
    "print(a)"
   ]
  },
  {
   "cell_type": "code",
   "execution_count": 11,
   "metadata": {},
   "outputs": [
    {
     "name": "stdout",
     "output_type": "stream",
     "text": [
      "198\n"
     ]
    }
   ],
   "source": [
    "# 시간초과\n",
    "while True:\n",
    "    tmp = a\n",
    "    for i in range(len(str(a))):\n",
    "        tmp += int(str(a)[i])\n",
    "    \n",
    "    if tmp == n:\n",
    "        print(a)\n",
    "        break\n",
    "    elif tmp > n:\n",
    "        a -= 1\n",
    "    elif tmp < n:\n",
    "        a += 1"
   ]
  },
  {
   "cell_type": "code",
   "execution_count": 13,
   "metadata": {},
   "outputs": [
    {
     "name": "stdout",
     "output_type": "stream",
     "text": [
      "216\n",
      "198\n"
     ]
    }
   ],
   "source": [
    "# 메모리 29200kb 시간 3220ms\n",
    "n = int(input())\n",
    "\n",
    "for i in range(1, n+1):\n",
    "    num = 0\n",
    "    for j in range(len(str(i))):\n",
    "        num += int(str(i)[j]) # i의 각 자리수의 합 \n",
    "    num_sum = i + num\n",
    "    \n",
    "    if num_sum == n:\n",
    "        print(i)\n",
    "        break\n",
    "    if i == n:\n",
    "        print(0)"
   ]
  },
  {
   "cell_type": "code",
   "execution_count": null,
   "metadata": {},
   "outputs": [],
   "source": [
    "# 메모리 29200kb 시간 1396 ms\n",
    "n = int(input())\n",
    "\n",
    "for i in range(1, n+1):\n",
    "    num = sum((map(int, str(i)))) # i의 각 자리수의 합 \n",
    "    num_sum = i + num\n",
    "    \n",
    "    if num_sum == n:\n",
    "        print(i)\n",
    "        break\n",
    "    if i == n:\n",
    "        print(0)"
   ]
  }
 ],
 "metadata": {
  "kernelspec": {
   "display_name": "Python 3",
   "language": "python",
   "name": "python3"
  },
  "language_info": {
   "codemirror_mode": {
    "name": "ipython",
    "version": 3
   },
   "file_extension": ".py",
   "mimetype": "text/x-python",
   "name": "python",
   "nbconvert_exporter": "python",
   "pygments_lexer": "ipython3",
   "version": "3.7.7"
  }
 },
 "nbformat": 4,
 "nbformat_minor": 4
}
