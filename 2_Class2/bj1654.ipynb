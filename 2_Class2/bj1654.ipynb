{
 "cells": [
  {
   "cell_type": "code",
   "execution_count": 3,
   "metadata": {},
   "outputs": [
    {
     "name": "stdout",
     "output_type": "stream",
     "text": [
      "4 11\n",
      "802\n",
      "743\n",
      "457\n",
      "539\n",
      "200\n"
     ]
    }
   ],
   "source": [
    "# 시간 초과\n",
    "k, n = map(int, input().split())\n",
    "lan = list()\n",
    "\n",
    "for i in range(k):\n",
    "    lan.append(int(input()))\n",
    "    \n",
    "tmp = min(lan)\n",
    "cnt = 0\n",
    "\n",
    "while True:\n",
    "    cnt = 0 \n",
    "    for j in range(len(lan)):\n",
    "        cnt += lan[j] // tmp\n",
    "    \n",
    "    if cnt != n: \n",
    "        tmp -= 1\n",
    "    else:\n",
    "        break\n",
    "\n",
    "print(tmp)"
   ]
  },
  {
   "cell_type": "code",
   "execution_count": 1,
   "metadata": {
    "scrolled": true
   },
   "outputs": [
    {
     "name": "stdout",
     "output_type": "stream",
     "text": [
      "4 11\n",
      "802\n",
      "743\n",
      "457\n",
      "539\n",
      "5027\n",
      "2486\n",
      "226 0\n",
      "231\n"
     ]
    }
   ],
   "source": [
    "# 다른 풀이로 접근해보자!\n",
    "\n",
    "k, n = map(int, input().split())\n",
    "lan = list()\n",
    "\n",
    "for i in range(k):\n",
    "    lan.append(int(input()))\n",
    "\n",
    "print(min(lan)*n)\n",
    "print(min(lan)*n - sum(lan))\n",
    "a = (min(lan)*n - sum(lan))//n\n",
    "b = (min(lan)*n - sum(lan))%n\n",
    "print(a, b)\n",
    "print(min(lan)-a)"
   ]
  },
  {
   "cell_type": "code",
   "execution_count": 2,
   "metadata": {},
   "outputs": [
    {
     "name": "stdout",
     "output_type": "stream",
     "text": [
      "4 11\n",
      "802\n",
      "743\n",
      "457\n",
      "539\n",
      "200\n"
     ]
    }
   ],
   "source": [
    "k, n = map(int, input().split())\n",
    "lan = list()\n",
    "\n",
    "for i in range(k):\n",
    "    lan.append(int(input()))\n",
    "\n",
    "a = (min(lan)*11 - sum(lan))//n\n",
    "re = min(lan) - a\n",
    "\n",
    "while True:\n",
    "    cnt = 0 \n",
    "    for j in range(len(lan)):\n",
    "        cnt += lan[j] // re\n",
    "    \n",
    "    if cnt != n: \n",
    "        re -= 1\n",
    "    else:\n",
    "        break\n",
    "\n",
    "print(re)"
   ]
  },
  {
   "cell_type": "code",
   "execution_count": null,
   "metadata": {},
   "outputs": [],
   "source": [
    "# 이진탐색으로 풀라는데? \n",
    "# 이래서 알고리즘을 이용하는구나 부르트포스로 하면 시간 초과 뜨니깐\n",
    "\n",
    "k, n = map(int, input().split())\n",
    "lan = list()\n",
    "\n",
    "for i in range(k):\n",
    "    lan.append(int(input()))\n",
    "\n",
    "length = len(m_list)\n",
    "m_list = list(range(0, min(lan)+1))\n",
    "left = 0\n",
    "right = length -1\n",
    "\n",
    "while left <= right:\n",
    "    mid = (left+right)//2\n",
    "    if m_list[mid] == n:\n",
    "        print(mid+1)\n",
    "        break\n",
    "    elif m_list[mid] > n:\n",
    "        right = mid -1\n",
    "    else:\n",
    "        left = mid+1"
   ]
  },
  {
   "cell_type": "code",
   "execution_count": 12,
   "metadata": {},
   "outputs": [
    {
     "name": "stdout",
     "output_type": "stream",
     "text": [
      "4 11\n"
     ]
    },
    {
     "ename": "ValueError",
     "evalue": "invalid literal for int() with base 10: ''",
     "output_type": "error",
     "traceback": [
      "\u001b[1;31m---------------------------------------------------------------------------\u001b[0m",
      "\u001b[1;31mValueError\u001b[0m                                Traceback (most recent call last)",
      "\u001b[1;32m<ipython-input-12-f36a366a9fc3>\u001b[0m in \u001b[0;36m<module>\u001b[1;34m\u001b[0m\n\u001b[0;32m      1\u001b[0m \u001b[1;32mimport\u001b[0m \u001b[0msys\u001b[0m\u001b[1;33m\u001b[0m\u001b[1;33m\u001b[0m\u001b[0m\n\u001b[0;32m      2\u001b[0m \u001b[0mk\u001b[0m\u001b[1;33m,\u001b[0m \u001b[0mn\u001b[0m \u001b[1;33m=\u001b[0m \u001b[0mmap\u001b[0m\u001b[1;33m(\u001b[0m\u001b[0mint\u001b[0m\u001b[1;33m,\u001b[0m \u001b[0minput\u001b[0m\u001b[1;33m(\u001b[0m\u001b[1;33m)\u001b[0m\u001b[1;33m.\u001b[0m\u001b[0msplit\u001b[0m\u001b[1;33m(\u001b[0m\u001b[1;33m)\u001b[0m\u001b[1;33m)\u001b[0m\u001b[1;33m\u001b[0m\u001b[1;33m\u001b[0m\u001b[0m\n\u001b[1;32m----> 3\u001b[1;33m \u001b[0mlan\u001b[0m \u001b[1;33m=\u001b[0m \u001b[1;33m[\u001b[0m\u001b[0mint\u001b[0m\u001b[1;33m(\u001b[0m\u001b[0msys\u001b[0m\u001b[1;33m.\u001b[0m\u001b[0mstdin\u001b[0m\u001b[1;33m.\u001b[0m\u001b[0mreadline\u001b[0m\u001b[1;33m(\u001b[0m\u001b[1;33m)\u001b[0m\u001b[1;33m)\u001b[0m \u001b[1;32mfor\u001b[0m \u001b[0m_\u001b[0m \u001b[1;32min\u001b[0m \u001b[0mrange\u001b[0m\u001b[1;33m(\u001b[0m\u001b[0mk\u001b[0m\u001b[1;33m)\u001b[0m\u001b[1;33m]\u001b[0m\u001b[1;33m\u001b[0m\u001b[1;33m\u001b[0m\u001b[0m\n\u001b[0m\u001b[0;32m      4\u001b[0m \u001b[0mstar\u001b[0m\u001b[1;33m,\u001b[0m \u001b[0mend\u001b[0m \u001b[1;33m=\u001b[0m \u001b[1;36m1\u001b[0m\u001b[1;33m,\u001b[0m \u001b[0mma\u001b[0m\u001b[1;33m(\u001b[0m\u001b[0mlan\u001b[0m\u001b[1;33m)\u001b[0m \u001b[1;31m# 이분탐색 처음과 끝 위치\u001b[0m\u001b[1;33m\u001b[0m\u001b[1;33m\u001b[0m\u001b[0m\n\u001b[0;32m      5\u001b[0m \u001b[1;33m\u001b[0m\u001b[0m\n",
      "\u001b[1;32m<ipython-input-12-f36a366a9fc3>\u001b[0m in \u001b[0;36m<listcomp>\u001b[1;34m(.0)\u001b[0m\n\u001b[0;32m      1\u001b[0m \u001b[1;32mimport\u001b[0m \u001b[0msys\u001b[0m\u001b[1;33m\u001b[0m\u001b[1;33m\u001b[0m\u001b[0m\n\u001b[0;32m      2\u001b[0m \u001b[0mk\u001b[0m\u001b[1;33m,\u001b[0m \u001b[0mn\u001b[0m \u001b[1;33m=\u001b[0m \u001b[0mmap\u001b[0m\u001b[1;33m(\u001b[0m\u001b[0mint\u001b[0m\u001b[1;33m,\u001b[0m \u001b[0minput\u001b[0m\u001b[1;33m(\u001b[0m\u001b[1;33m)\u001b[0m\u001b[1;33m.\u001b[0m\u001b[0msplit\u001b[0m\u001b[1;33m(\u001b[0m\u001b[1;33m)\u001b[0m\u001b[1;33m)\u001b[0m\u001b[1;33m\u001b[0m\u001b[1;33m\u001b[0m\u001b[0m\n\u001b[1;32m----> 3\u001b[1;33m \u001b[0mlan\u001b[0m \u001b[1;33m=\u001b[0m \u001b[1;33m[\u001b[0m\u001b[0mint\u001b[0m\u001b[1;33m(\u001b[0m\u001b[0msys\u001b[0m\u001b[1;33m.\u001b[0m\u001b[0mstdin\u001b[0m\u001b[1;33m.\u001b[0m\u001b[0mreadline\u001b[0m\u001b[1;33m(\u001b[0m\u001b[1;33m)\u001b[0m\u001b[1;33m)\u001b[0m \u001b[1;32mfor\u001b[0m \u001b[0m_\u001b[0m \u001b[1;32min\u001b[0m \u001b[0mrange\u001b[0m\u001b[1;33m(\u001b[0m\u001b[0mk\u001b[0m\u001b[1;33m)\u001b[0m\u001b[1;33m]\u001b[0m\u001b[1;33m\u001b[0m\u001b[1;33m\u001b[0m\u001b[0m\n\u001b[0m\u001b[0;32m      4\u001b[0m \u001b[0mstar\u001b[0m\u001b[1;33m,\u001b[0m \u001b[0mend\u001b[0m \u001b[1;33m=\u001b[0m \u001b[1;36m1\u001b[0m\u001b[1;33m,\u001b[0m \u001b[0mma\u001b[0m\u001b[1;33m(\u001b[0m\u001b[0mlan\u001b[0m\u001b[1;33m)\u001b[0m \u001b[1;31m# 이분탐색 처음과 끝 위치\u001b[0m\u001b[1;33m\u001b[0m\u001b[1;33m\u001b[0m\u001b[0m\n\u001b[0;32m      5\u001b[0m \u001b[1;33m\u001b[0m\u001b[0m\n",
      "\u001b[1;31mValueError\u001b[0m: invalid literal for int() with base 10: ''"
     ]
    }
   ],
   "source": [
    "import sys\n",
    "k, n = map(int, input().split())\n",
    "lan = [int(sys.stdin.readline()) for _ in range(k)]\n",
    "star, end = 1, ma(lan) # 이분탐색 처음과 끝 위치\n",
    "\n",
    "while start <= end:# 적절한 랜선의 길이를 찾는 알고리즘\n",
    "    mid = (start + end) // 2 # 중간 위치\n",
    "    lines = 0 # 랜선 수\n",
    "    for i in lan:\n",
    "        line += i // mid # 분할 된 랜선 수 \n",
    "        \n",
    "    if lines >= n: # 랜선의 개수가 분기점\n",
    "        start = mid + 1\n",
    "    else:\n",
    "        end = mid - 1\n",
    "\n",
    "print(end)"
   ]
  },
  {
   "cell_type": "code",
   "execution_count": 14,
   "metadata": {},
   "outputs": [
    {
     "name": "stdout",
     "output_type": "stream",
     "text": [
      "4 11\n",
      "802\n",
      "743\n",
      "457\n",
      "539\n",
      "200\n"
     ]
    }
   ],
   "source": [
    "import sys\n",
    "K, N = map(int, input().split())\n",
    "lan = list()\n",
    "for _ in range(k):\n",
    "    lan.append(int(input()))\n",
    "start, end = 1, max(lan) #이분탐색 처음과 끝위치\n",
    "\n",
    "while start <= end: #적절한 랜선의 길이를 찾는 알고리즘\n",
    "    mid = (start + end) // 2 #중간 위치\n",
    "    lines = 0 #랜선 수\n",
    "    for i in lan:\n",
    "        lines += i // mid #분할 된 랜선 수\n",
    "        \n",
    "    if lines >= N: #랜선의 개수가 분기점\n",
    "        start = mid + 1\n",
    "    else:\n",
    "        end = mid - 1\n",
    "print(end)"
   ]
  },
  {
   "cell_type": "code",
   "execution_count": 15,
   "metadata": {},
   "outputs": [
    {
     "name": "stdout",
     "output_type": "stream",
     "text": [
      "4 11\n",
      "802\n",
      "743\n",
      "457\n",
      "539\n",
      "200\n"
     ]
    }
   ],
   "source": [
    "k, n =  map(int, input().split())\n",
    "line = []\n",
    "for _ in range(k):\n",
    "    line.append(int(input()))\n",
    "start, end = 1, max(line)\n",
    "\n",
    "while start <= end:\n",
    "    mid = (start + end)//2\n",
    "    cnt = 0\n",
    "    for i in line:\n",
    "        cnt += i//mid\n",
    "    if cnt >= n:\n",
    "        start = mid+1\n",
    "    else:\n",
    "        end = mid -1\n",
    "print(end)"
   ]
  },
  {
   "cell_type": "code",
   "execution_count": null,
   "metadata": {},
   "outputs": [],
   "source": []
  }
 ],
 "metadata": {
  "kernelspec": {
   "display_name": "Python 3",
   "language": "python",
   "name": "python3"
  },
  "language_info": {
   "codemirror_mode": {
    "name": "ipython",
    "version": 3
   },
   "file_extension": ".py",
   "mimetype": "text/x-python",
   "name": "python",
   "nbconvert_exporter": "python",
   "pygments_lexer": "ipython3",
   "version": "3.7.7"
  }
 },
 "nbformat": 4,
 "nbformat_minor": 4
}
