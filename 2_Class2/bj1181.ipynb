{
 "cells": [
  {
   "cell_type": "code",
   "execution_count": 1,
   "metadata": {},
   "outputs": [],
   "source": [
    "# 단어정렬\n",
    "# 실버 5"
   ]
  },
  {
   "cell_type": "code",
   "execution_count": 27,
   "metadata": {},
   "outputs": [
    {
     "name": "stdout",
     "output_type": "stream",
     "text": [
      "13\n",
      "but\n",
      "i\n",
      "wont\n",
      "hesitate\n",
      "no\n",
      "more\n",
      "no\n",
      "more\n",
      "it\n",
      "cannot\n",
      "wait\n",
      "im\n",
      "yours\n"
     ]
    }
   ],
   "source": [
    "n = int(input())\n",
    "dixt = list()\n",
    "\n",
    "for i in range(n):\n",
    "    dixt.append(input())"
   ]
  },
  {
   "cell_type": "code",
   "execution_count": 23,
   "metadata": {},
   "outputs": [
    {
     "name": "stdout",
     "output_type": "stream",
     "text": [
      "['but', 'i', 'wont', 'hesitate', 'no']\n",
      "{'wont', 'but', 'no', 'i', 'hesitate'}\n"
     ]
    }
   ],
   "source": [
    "print(dixt)\n",
    "print(set(dixt))"
   ]
  },
  {
   "cell_type": "code",
   "execution_count": 43,
   "metadata": {},
   "outputs": [
    {
     "name": "stdout",
     "output_type": "stream",
     "text": [
      "['wait', 'cannot', 'wont', 'it', 'but', 'no', 'yours', 'i', 'hesitate', 'im', 'more']\n",
      "같음\n",
      "같음\n",
      "같음\n",
      "more wont\n",
      "같음\n",
      "more wait\n",
      "같음\n",
      "같음\n",
      "im no\n",
      "im it\n",
      "같음\n",
      "같음\n",
      "i\n",
      "im\n",
      "it\n",
      "no\n",
      "but\n",
      "more\n",
      "wait\n",
      "wont\n",
      "yours\n",
      "cannot\n",
      "hesitate\n"
     ]
    }
   ],
   "source": [
    "new_dixt = set(dixt)\n",
    "new_dixt = list(new_dixt)\n",
    "print(new_dixt)\n",
    "\n",
    "for k in range(len(new_dixt)-1):\n",
    "    for j in range(len(new_dixt)-k-1):\n",
    "        if len(new_dixt[j]) > len(new_dixt[j+1]):\n",
    "            new_dixt[j], new_dixt[j+1] = new_dixt[j+1], new_dixt[j]\n",
    "\n",
    "        elif len(new_dixt[j]) == len(new_dixt[j+1]):\n",
    "            tmp_list = []\n",
    "            tmp_list.append(new_dixt[j])\n",
    "            tmp_list.append(new_dixt[j+1])\n",
    "            \n",
    "            if sorted(tmp_list) == tmp_list:\n",
    "                #print('같음')\n",
    "                continue\n",
    "            else:\n",
    "                tmp_1 = sorted(tmp_list)\n",
    "                new_dixt[j] = tmp_1[0]\n",
    "                new_dixt[j+1] = tmp_1[1]\n",
    "                #print(sorted(tmp_list), 'sort')\n",
    "                print(new_dixt[j], new_dixt[j+1])\n",
    "        \n",
    "for i in range(len(new_dixt)):\n",
    "    print(new_dixt[i])"
   ]
  },
  {
   "cell_type": "code",
   "execution_count": 39,
   "metadata": {},
   "outputs": [
    {
     "name": "stdout",
     "output_type": "stream",
     "text": [
      "None\n",
      "['apple', 'banana']\n"
     ]
    }
   ],
   "source": [
    "a = 'apple'\n",
    "b = 'banana'\n",
    "\n",
    "tmp = [b,a]\n",
    "tmp_1 = tmp.sort()\n",
    "print(tmp_1)\n",
    "print(sorted(tmp))"
   ]
  },
  {
   "cell_type": "code",
   "execution_count": null,
   "metadata": {},
   "outputs": [],
   "source": [
    "new_dixt = set(dixt)\n",
    "new_dixt = list(new_dixt)\n",
    "print(new_dixt)\n",
    "\n",
    "for k in range(len(new_dixt)-1):\n",
    "    for j in range(len(new_dixt)-k-1):\n",
    "        if len(new_dixt[j]) > len(new_dixt[j+1]):\n",
    "            new_dixt[j], new_dixt[j+1] = new_dixt[j+1], new_dixt[j]\n",
    "\n",
    "        elif len(new_dixt[j]) == len(new_dixt[j+1]):\n",
    "            tmp_list = []\n",
    "            tmp_list.append(new_dixt[j])\n",
    "            tmp_list.append(new_dixt[j+1])\n",
    "            \n",
    "            if sorted(tmp_list) == tmp_list:\n",
    "                continue\n",
    "            else:\n",
    "                tmp_1 = sorted(tmp_list)\n",
    "                new_dixt[j] = tmp_1[0]\n",
    "                new_dixt[j+1] = tmp_1[1]\n",
    "                print(new_dixt[j], new_dixt[j+1])\n",
    "        \n",
    "for i in range(len(new_dixt)):\n",
    "    print(new_dixt[i])"
   ]
  },
  {
   "cell_type": "code",
   "execution_count": 45,
   "metadata": {},
   "outputs": [
    {
     "name": "stdout",
     "output_type": "stream",
     "text": [
      "13\n",
      "but\n",
      "i\n",
      "wont\n",
      "hesitate\n",
      "no\n",
      "more\n",
      "no\n",
      "more\n",
      "it\n",
      "cannot\n",
      "wait\n",
      "im\n",
      "yours\n",
      "i\n",
      "im\n",
      "it\n",
      "no\n",
      "but\n",
      "more\n",
      "wait\n",
      "wont\n",
      "yours\n",
      "cannot\n",
      "hesitate\n"
     ]
    }
   ],
   "source": [
    "n = int(input())\n",
    "a = []\n",
    "\n",
    "for i in range(n):\n",
    "    a.append(input())\n",
    "    \n",
    "a = set(a)\n",
    "a = list(a)\n",
    "\n",
    "# key 값을 기준으로 정렬되고, 기본값은 오름차순 또한 lambda 식을 사용할 수 있음\n",
    "# lambda형식? \n",
    "\n",
    "a.sort(key = lambda x: (len(x), x))\n",
    "\n",
    "for i in a:\n",
    "    print(i)"
   ]
  },
  {
   "cell_type": "code",
   "execution_count": 55,
   "metadata": {},
   "outputs": [
    {
     "name": "stdout",
     "output_type": "stream",
     "text": [
      "3\n",
      "sdf\n",
      "sdfg\n",
      "d\n",
      "d\n",
      "sdf\n",
      "sdfg\n"
     ]
    }
   ],
   "source": [
    "n = int(input())\n",
    "a = []\n",
    "\n",
    "for i in range(n):\n",
    "    a.append(input())\n",
    "    \n",
    "a = set(a)\n",
    "a = list(a)\n",
    "\n",
    "# key 값을 기준으로 정렬되고, 기본값은 오름차순 또한 lambda 식을 사용할 수 있음\n",
    "# lambda형식? \n",
    "\n",
    "a.sort(key = lambda x: (len(x), x))\n",
    "\n",
    "for i in a:\n",
    "    print(i)"
   ]
  },
  {
   "cell_type": "markdown",
   "metadata": {},
   "source": [
    "### lambda 형식 \n",
    "- lambda 인자 : 표현식 \n",
    "\n",
    "https://wikidocs.net/64"
   ]
  },
  {
   "cell_type": "code",
   "execution_count": 52,
   "metadata": {},
   "outputs": [
    {
     "name": "stdout",
     "output_type": "stream",
     "text": [
      "[0, 1, 4, 9, 16]\n"
     ]
    }
   ],
   "source": [
    "a = list(map(lambda x: x**2, range(5)))\n",
    "\"\"\" map 함수가 인자로 받은 함수는 lambda x: x ** 2구요, \n",
    "리스트로는 range(5)를 받았습니다. range 함수는 알고계시죠? \n",
    "range(5) 라고 써주면 [0, 1, 2, 3, 4]라는 리스트를 돌려줍니다. \n",
    "그리고 x ** 2 라는 것은 x 값을 제곱하라는 연산자죠.\"\"\"\n",
    "print(a)"
   ]
  },
  {
   "cell_type": "code",
   "execution_count": null,
   "metadata": {},
   "outputs": [],
   "source": []
  }
 ],
 "metadata": {
  "kernelspec": {
   "display_name": "Python 3",
   "language": "python",
   "name": "python3"
  },
  "language_info": {
   "codemirror_mode": {
    "name": "ipython",
    "version": 3
   },
   "file_extension": ".py",
   "mimetype": "text/x-python",
   "name": "python",
   "nbconvert_exporter": "python",
   "pygments_lexer": "ipython3",
   "version": "3.7.7"
  }
 },
 "nbformat": 4,
 "nbformat_minor": 4
}
