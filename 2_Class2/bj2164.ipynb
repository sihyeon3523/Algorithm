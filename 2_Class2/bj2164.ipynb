{
 "cells": [
  {
   "cell_type": "code",
   "execution_count": 1,
   "metadata": {},
   "outputs": [
    {
     "name": "stdout",
     "output_type": "stream",
     "text": [
      "6\n",
      "[1, 2, 3, 4, 5, 6]\n"
     ]
    }
   ],
   "source": [
    "n = int(input())\n",
    "card = []\n",
    "\n",
    "for i in range(n):\n",
    "    card.append(i+1)\n",
    "\n",
    "print(card)"
   ]
  },
  {
   "cell_type": "code",
   "execution_count": 22,
   "metadata": {},
   "outputs": [
    {
     "name": "stdout",
     "output_type": "stream",
     "text": [
      "6\n",
      "[2, 4, 6]\n",
      "4\n"
     ]
    }
   ],
   "source": [
    "# 시간초과 \n",
    "n = int(input())\n",
    "if n == 1:\n",
    "    print(1)\n",
    "elif n % 2 == 0:\n",
    "    card = list(range(2, n+1,2))\n",
    "elif n % 2 != 0:\n",
    "    card = list(range(2, n+1, 2))\n",
    "    card.append(card.pop(0))\n",
    "\n",
    "print(card)\n",
    "\n",
    "if len(card) == 1:\n",
    "    print(card[0])\n",
    "elif len(card) %2 == 0:\n",
    "    print(card[-1])\n",
    "elif len(card) %2 != 0:\n",
    "    for i in range(len(card)-1):\n",
    "        card.pop(0)\n",
    "        card.append(card.pop(0))\n",
    "\n",
    "print(card[0])"
   ]
  },
  {
   "cell_type": "code",
   "execution_count": 35,
   "metadata": {},
   "outputs": [
    {
     "name": "stdout",
     "output_type": "stream",
     "text": [
      "6\n",
      "하 [2, 4, 6]\n",
      "나눈값 1\n",
      "[6] [6]\n",
      "아 [6, 4]\n",
      "하 [4]\n",
      "4\n"
     ]
    }
   ],
   "source": [
    "import sys\n",
    "\n",
    "N = int(input())\n",
    "\n",
    "arr = [i+1 for i in range(N)]\n",
    "\n",
    "\n",
    "while len(arr) > 1:\n",
    "    # 0이면 False, 1이면 True \n",
    "    if len(arr) % 2:\n",
    "        print('나눈값',len(arr)%2)\n",
    "        t = [arr[-1]]\n",
    "        print(t,[arr[-1]] )\n",
    "        # 가장 바깥쪽 iterable의 모든 항목을 넣는다 \n",
    "        t.extend(arr[1::2])\n",
    "        arr = t\n",
    "        print('아',arr)\n",
    "        \n",
    "    else:\n",
    "        # 슬라이싱 이용하기 (특정 수를 빼고 진행하고 싶은데 규칙이 있을 때)\n",
    "        arr = arr[1::2]\n",
    "        print('하',arr)\n",
    "\n",
    "print(arr[0])"
   ]
  },
  {
   "cell_type": "code",
   "execution_count": 56,
   "metadata": {},
   "outputs": [
    {
     "name": "stdout",
     "output_type": "stream",
     "text": [
      "6\n",
      "4\n"
     ]
    }
   ],
   "source": [
    "import sys\n",
    "from collections import deque\n",
    "\n",
    "N = int(input())\n",
    "queue = deque()\n",
    "\n",
    "for i in range(N):\n",
    "    queue.append(i+1)\n",
    "    \n",
    "while len(queue) > 1:\n",
    "    queue.popleft()\n",
    "    queue.append(queue.popleft())\n",
    "\n",
    "print(queue.pop())"
   ]
  },
  {
   "cell_type": "code",
   "execution_count": null,
   "metadata": {},
   "outputs": [],
   "source": []
  }
 ],
 "metadata": {
  "kernelspec": {
   "display_name": "Python 3",
   "language": "python",
   "name": "python3"
  },
  "language_info": {
   "codemirror_mode": {
    "name": "ipython",
    "version": 3
   },
   "file_extension": ".py",
   "mimetype": "text/x-python",
   "name": "python",
   "nbconvert_exporter": "python",
   "pygments_lexer": "ipython3",
   "version": "3.7.7"
  }
 },
 "nbformat": 4,
 "nbformat_minor": 4
}
