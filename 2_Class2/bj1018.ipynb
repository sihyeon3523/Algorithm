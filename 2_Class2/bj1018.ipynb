{
 "cells": [
  {
   "cell_type": "code",
   "execution_count": 11,
   "metadata": {},
   "outputs": [
    {
     "name": "stdout",
     "output_type": "stream",
     "text": [
      "10 13\n",
      "BBBBBBBBWBWBW\n",
      "BBBBBBBBBWBWB\n",
      "BBBBBBBBWBWBW\n",
      "BBBBBBBBBWBWB\n",
      "BBBBBBBBWBWBW\n",
      "BBBBBBBBBWBWB\n",
      "BBBBBBBBWBWBW\n",
      "BBBBBBBBBWBWB\n",
      "WWWWWWWWWWBWB\n",
      "WWWWWWWWWWBWB\n",
      "['BBBBBBBBWBWBW', 'BBBBBBBBBWBWB', 'BBBBBBBBWBWBW', 'BBBBBBBBBWBWB', 'BBBBBBBBWBWBW', 'BBBBBBBBBWBWB', 'BBBBBBBBWBWBW', 'BBBBBBBBBWBWB', 'WWWWWWWWWWBWB', 'WWWWWWWWWWBWB']\n"
     ]
    }
   ],
   "source": [
    "N,M = map(int, input().split())\n",
    "board = list()\n",
    "\n",
    "for i in range(N):\n",
    "    board.append(input())\n",
    "\n",
    "repair = list()\n",
    "print(board)"
   ]
  },
  {
   "cell_type": "code",
   "execution_count": 14,
   "metadata": {},
   "outputs": [
    {
     "name": "stdout",
     "output_type": "stream",
     "text": [
      "B\n",
      "B\n",
      "B\n"
     ]
    }
   ],
   "source": [
    "print(board[0][0])\n",
    "print(board[0][1])\n",
    "print(board[1][0])"
   ]
  },
  {
   "cell_type": "code",
   "execution_count": 21,
   "metadata": {},
   "outputs": [
    {
     "name": "stdout",
     "output_type": "stream",
     "text": [
      "10 13\n",
      "BBBBBBBBWBWBW\n",
      "BBBBBBBBBWBWB\n",
      "BBBBBBBBWBWBW\n",
      "BBBBBBBBBWBWB\n",
      "BBBBBBBBWBWBW\n",
      "BBBBBBBBBWBWB\n",
      "BBBBBBBBWBWBW\n",
      "BBBBBBBBBWBWB\n",
      "WWWWWWWWWWBWB\n",
      "WWWWWWWWWWBWB\n"
     ]
    }
   ],
   "source": [
    "N, M = map(int, input().split())\n",
    "\n",
    "origin = []\n",
    "\n",
    "for i in range(N):\n",
    "    origin.append(input())\n",
    "\n",
    "count = list() # W가 가장 먼저 있을 때, B가 가장 먼저 있을 때 중 최솟값"
   ]
  },
  {
   "cell_type": "markdown",
   "metadata": {},
   "source": [
    "- 몇 번 브르투포스 해야 하는지? N-7*M-7 \n",
    "- 한 mini 매트릭스 안에서 어떻게 돌아야 할까? \n",
    "- 시작위치 : i, j / 끝 위치 : i+7, j+7\n",
    "- W가 가장 먼저 있을 경우, 짝수에 W가 있어야 함 \n",
    "- B가 가장 먼저 있을 경우, 짝수에 B가 있어야 함 \n",
    "- 위 두가지 경우일 경우 변경해야 할 것을 카운팅함"
   ]
  },
  {
   "cell_type": "code",
   "execution_count": 22,
   "metadata": {},
   "outputs": [
    {
     "name": "stdout",
     "output_type": "stream",
     "text": [
      "[32, 32, 28, 36, 24, 40, 20, 44, 16, 48, 12, 52, 32, 32, 29, 35, 25, 39, 23, 41, 19, 45, 17, 47, 32, 32, 29, 35, 26, 38, 23, 41, 20, 44, 17, 47]\n",
      "12\n"
     ]
    }
   ],
   "source": [
    "for i in range(N-7):\n",
    "    for j in range(M-7):\n",
    "        first_w = 0\n",
    "        first_b = 0\n",
    "        for k in range(i, i+8):\n",
    "            for l in range(j, j+8):\n",
    "                # 더했을 때 짝수 일때 \n",
    "                if (k+l)%2 == 0:\n",
    "                    if origin[k][l] == 'W':\n",
    "                        # first_w 입장에서는 잘 들어간 것 \n",
    "                        # first_b 입장에서는 잘못 들어간 것\n",
    "                        first_b += 1\n",
    "                    elif origin[k][l] == 'B':\n",
    "                        # first_w 입장에서는 잘못 들어간 것\n",
    "                        # first_b 입장에서는 잘 들어간 것\n",
    "                        first_w += 1\n",
    "                else:\n",
    "                    # 더했을 때 홀수 일때 \n",
    "                    if origin[k][l] == 'W':\n",
    "                        # first_w 입장에서는 잘못 들어간 것\n",
    "                        # first_b 입장에서는 잘 들어간 것 \n",
    "                        first_w += 1\n",
    "                    elif origin[k][l] == 'B':\n",
    "                        # first_w 입장에서는 잘 들어간 것\n",
    "                        # first_b 입장에서는 잘못 들어간 것\n",
    "                        first_b += 1\n",
    "        count.append(first_w)\n",
    "        count.append(first_b)\n",
    "\n",
    "print(count)\n",
    "print(min(count))"
   ]
  },
  {
   "cell_type": "code",
   "execution_count": null,
   "metadata": {},
   "outputs": [],
   "source": []
  },
  {
   "cell_type": "code",
   "execution_count": null,
   "metadata": {},
   "outputs": [],
   "source": []
  },
  {
   "cell_type": "code",
   "execution_count": null,
   "metadata": {},
   "outputs": [],
   "source": []
  },
  {
   "cell_type": "code",
   "execution_count": null,
   "metadata": {},
   "outputs": [],
   "source": []
  },
  {
   "cell_type": "code",
   "execution_count": null,
   "metadata": {},
   "outputs": [],
   "source": []
  },
  {
   "cell_type": "code",
   "execution_count": null,
   "metadata": {},
   "outputs": [],
   "source": []
  }
 ],
 "metadata": {
  "kernelspec": {
   "display_name": "Python 3",
   "language": "python",
   "name": "python3"
  },
  "language_info": {
   "codemirror_mode": {
    "name": "ipython",
    "version": 3
   },
   "file_extension": ".py",
   "mimetype": "text/x-python",
   "name": "python",
   "nbconvert_exporter": "python",
   "pygments_lexer": "ipython3",
   "version": "3.7.7"
  }
 },
 "nbformat": 4,
 "nbformat_minor": 4
}
