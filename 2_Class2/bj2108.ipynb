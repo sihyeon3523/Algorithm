{
 "cells": [
  {
   "cell_type": "code",
   "execution_count": 25,
   "metadata": {},
   "outputs": [
    {
     "name": "stdout",
     "output_type": "stream",
     "text": [
      "[0, 2, 2]\n",
      "2\n",
      "2\n",
      "2\n",
      "3\n"
     ]
    }
   ],
   "source": [
    "# 최빈값 구하기 \n",
    "N = 5\n",
    "stat = [1,1,2,2,3]\n",
    "\n",
    "if min(stat) < 0:\n",
    "    b = [0]*(max(stat)-min(stat))\n",
    "elif min(stat) == 0:\n",
    "    b = [0]*(max(stat)+1)\n",
    "else:\n",
    "    b = [0]*max(stat)\n",
    "\n",
    "for i in range(len(b)):\n",
    "    b[i] = stat.count(i)\n",
    "print(b)\n",
    "\n",
    "cnt = 0\n",
    "for i in range(len(b)):\n",
    "    print(max(b))\n",
    "    if (b[i] == max(b)):\n",
    "        cnt += 1\n",
    "        if cnt == 2:\n",
    "            print(i+1)"
   ]
  },
  {
   "cell_type": "code",
   "execution_count": null,
   "metadata": {},
   "outputs": [],
   "source": [
    "#최빈값\n",
    "number = list(set(stat))\n",
    "max_fre = []\n",
    "max_cnt = 0\n",
    "\n",
    "for i in number:\n",
    "    if max_cnt == li.count(i):\n",
    "        max_fre.append(i)\n",
    "        \n",
    "    elif max_cnt < li.count(i):\n",
    "        max_fre = []\n",
    "        max_fre.append(i)\n",
    "        max_cnt = li.count(i)\n",
    "        \n",
    "        \n",
    "if len(max_fre) >1:\n",
    "    max_fre.sort()\n",
    "    print(max_fre[1])\n",
    "else:\n",
    "    print(max_fre[0])"
   ]
  },
  {
   "cell_type": "markdown",
   "metadata": {},
   "source": [
    "#### Counter 클래스를 처음 알았다!\n",
    "- 데이터의 개수를 셀 때 유용한 파이썬의 collections 모듈의 Counter 클래스\n",
    "- dict 형태로 저장된다\n",
    "- Counter 클래스는 이와 같은 작업을 좀 더 쉽게 할 수 있도록, 데이터의 개수가 많은 순으로 정렬된 배열을 리턴하는 most_common이라는 메서드를 제공하고 있습니다."
   ]
  },
  {
   "cell_type": "code",
   "execution_count": 30,
   "metadata": {},
   "outputs": [
    {
     "name": "stdout",
     "output_type": "stream",
     "text": [
      "5\n",
      "-1\n",
      "-2\n",
      "-3\n",
      "-1\n",
      "-2\n",
      "-2\n",
      "-2\n",
      "-1\n",
      "2\n"
     ]
    }
   ],
   "source": [
    "import sys\n",
    "from collections import Counter\n",
    "\n",
    "t = int(sys.stdin.readline())\n",
    "\n",
    "numbers = []\n",
    "for _ in range(t):\n",
    "    numbers.append(int(sys.stdin.readline()))\n",
    "    \n",
    "def mean(nums):\n",
    "    return round(sum(nums)/len(nums))\n",
    "\n",
    "def median(nums):\n",
    "    nums.sort()\n",
    "    mid = nums[len(nums)//2]\n",
    "    \n",
    "    return mid\n",
    "\n",
    "def mode(nums):\n",
    "    mode_dict = Counter(nums)\n",
    "    modes = mode_dict.most_common()\n",
    "    \n",
    "    if len(nums) > 1:\n",
    "        if modes[0][1] == modes[1][1]:\n",
    "            mod = modes[1][0]\n",
    "        else:\n",
    "            mod = modes[0][0]\n",
    "    else:\n",
    "        mod = modes[0][0]\n",
    "    \n",
    "    return mod\n",
    "\n",
    "def scope(nums):\n",
    "    return max(nums) - min(nums)\n",
    "\n",
    "print(mean(numbers))\n",
    "print(median(numbers))\n",
    "print(mode(numbers))\n",
    "print(scope(numbers))"
   ]
  },
  {
   "cell_type": "code",
   "execution_count": null,
   "metadata": {},
   "outputs": [],
   "source": []
  }
 ],
 "metadata": {
  "kernelspec": {
   "display_name": "Python 3",
   "language": "python",
   "name": "python3"
  },
  "language_info": {
   "codemirror_mode": {
    "name": "ipython",
    "version": 3
   },
   "file_extension": ".py",
   "mimetype": "text/x-python",
   "name": "python",
   "nbconvert_exporter": "python",
   "pygments_lexer": "ipython3",
   "version": "3.7.7"
  }
 },
 "nbformat": 4,
 "nbformat_minor": 4
}
