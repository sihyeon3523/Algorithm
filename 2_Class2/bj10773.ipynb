{
 "cells": [
  {
   "cell_type": "code",
   "execution_count": 2,
   "metadata": {},
   "outputs": [
    {
     "name": "stdout",
     "output_type": "stream",
     "text": [
      "4\n",
      "3\n",
      "0\n",
      "4\n",
      "0\n",
      "0\n"
     ]
    }
   ],
   "source": [
    "n = int(input())\n",
    "zero = []\n",
    "\n",
    "for i in range(n):\n",
    "    tmp = int(input())\n",
    "    if tmp != 0: \n",
    "        zero.append(tmp)\n",
    "    else:\n",
    "        zero.pop() # 리스트의 맨 마지막 요소를 돌려주고 그 요소는 삭제한다\n",
    "        # zero.remove(x) 리스트에서 첫 번째로 나오는 x를 삭제하는 함수 \n",
    "        # zero.extend(x) zero 리스트에 x 리스트를 더하게 된다. \n",
    "\n",
    "print(sum(zero))"
   ]
  },
  {
   "cell_type": "code",
   "execution_count": null,
   "metadata": {},
   "outputs": [],
   "source": []
  }
 ],
 "metadata": {
  "kernelspec": {
   "display_name": "Python 3",
   "language": "python",
   "name": "python3"
  },
  "language_info": {
   "codemirror_mode": {
    "name": "ipython",
    "version": 3
   },
   "file_extension": ".py",
   "mimetype": "text/x-python",
   "name": "python",
   "nbconvert_exporter": "python",
   "pygments_lexer": "ipython3",
   "version": "3.7.7"
  }
 },
 "nbformat": 4,
 "nbformat_minor": 4
}
