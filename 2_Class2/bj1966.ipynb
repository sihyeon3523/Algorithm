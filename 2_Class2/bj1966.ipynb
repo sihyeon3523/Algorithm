{
 "cells": [
  {
   "cell_type": "code",
   "execution_count": 1,
   "metadata": {},
   "outputs": [],
   "source": [
    "# 프린터큐\n",
    "# 중요도는 숫자가 클수록 중요도가 높다는 것을 의미 "
   ]
  },
  {
   "cell_type": "code",
   "execution_count": null,
   "metadata": {},
   "outputs": [],
   "source": [
    "a = int(input())\n",
    "seq = list() # 순서를 나타내 주는 것 \n",
    "\n",
    "for i in range(a):\n",
    "    n, m = map(int, input().split())\n",
    "    q = list(map(int, input().split()))\n",
    "    seq.append(i)\n",
    "\n",
    "cnt = 0\n",
    "for i in range(len(q)):\n",
    "    if q[i] > max(q):\n",
    "        cnt += 1\n",
    "    else:\n",
    "        continue\n",
    "        "
   ]
  },
  {
   "cell_type": "markdown",
   "metadata": {},
   "source": [
    "- 가장 앞에 있는 문서의 중요도 확인\n",
    "- 나머지 문서들 중 현재 문서보다 높은 문서가 하나라도 있다면, 이 문서를 인쇄하지 않고 Queue의 가장 뒤에 재배치  \n",
    "- 그렇지 않다면 바로 인쇄 "
   ]
  },
  {
   "cell_type": "markdown",
   "metadata": {},
   "source": [
    "- imp 의 첫번째 값이 최대값이 될 때까지 가장 첫번째 값을 맨 뒤로 보내는 FIFO을 반복하고, 첫번째 값이 최대 값이 되면 order를 하나 증가시키는 것이다. \n",
    "- 또한, 원래 문서의 인덱스를 idx에 저장해놓고 imp의 순서가 바뀔때마다 같이 순서를 바꿔줘야 한다. 그래야 원래 m 번째 문서가 언제 출력되는지를 아니까!"
   ]
  },
  {
   "cell_type": "markdown",
   "metadata": {},
   "source": [
    "상세히 설명하면 다음과 같다. \n",
    "- 1. test_cases를 먼저 받고 이에 따라 for문을 돌려 n, m과 문서의 중요도 imp를 받는다. \n",
    "- 2. idx 변수 생성: 문서마다 고유 인덱스를 생성하고, m번째 인덱스를 target으로 둔다. \n",
    "- 3. order 초기화\n",
    "- 4. while True 이므로 무한 반복인데 break가 있기 때문에 if절에 걸리는 조건이 맞으면 반복이 중단된다. \n",
    "------ 1. 만약 imp의 첫 번째 값이 가장 크다면 order을 하나 증가시킨다. \n",
    "1. idx의 첫번째 값이 Target이라면\n",
    "  1. order를 출력하고 반복을 중단한다\n",
    "  2. 그렇지 않다면 imp와 idx 의 첫번째 값을 제거한다. \n",
    "2. idx의 첫번째 값이 target이 될 때까지 반복한다 "
   ]
  },
  {
   "cell_type": "code",
   "execution_count": null,
   "metadata": {},
   "outputs": [],
   "source": [
    "test_cases = int(input())\n",
    "\n",
    "for _ in range(test_cases):\n",
    "    n,m = list(map(int, input().split()))\n",
    "    imp = list(map(int, input().split()))\n",
    "    idx = list(range(len(imp)))\n",
    "    idx[m] = 'target'\n",
    "    \n",
    "    # 순서\n",
    "    order = 0\n",
    "    \n",
    "    while True:\n",
    "        # 첫번째 if: imp의 첫번째 값 = 최대값?\n",
    "        if imp[0] == max(imp): \n",
    "            order += 1\n",
    "            \n",
    "            # 두번째 if: idx의 첫번째 값  = 'target'?\n",
    "            if idx[0] == 'target':\n",
    "                print(order)\n",
    "                break\n",
    "            else:\n",
    "                imp.pop(0)\n",
    "                idx.pop(0)\n",
    "                \n",
    "        else:\n",
    "            imp.append(imp.pop(0))\n",
    "            idx.append(idx.pop(0))"
   ]
  },
  {
   "cell_type": "code",
   "execution_count": null,
   "metadata": {},
   "outputs": [],
   "source": [
    "test_cases = int(input())\n",
    "\n",
    "for _ in range(test_cases):\n",
    "    n,m = list(map(int, input().split( )))\n",
    "    imp = list(map(int, input().split( )))\n",
    "    idx = list(range(len(imp)))\n",
    "    idx[m] = 'target'\n",
    "\n",
    "    # 순서\n",
    "    order = 0\n",
    "    \n",
    "    while True:\n",
    "        # 첫번째 if: imp의 첫번째 값 = 최댓값?\n",
    "        if imp[0]==max(imp):\n",
    "            order += 1\n",
    "                        \n",
    "            # 두번째 if: idx의 첫 번째 값 = \"target\"?\n",
    "            if idx[0]=='target':\n",
    "                print(order)\n",
    "                break\n",
    "            else:\n",
    "                imp.pop(0)\n",
    "                idx.pop(0)\n",
    "\n",
    "        else:\n",
    "            imp.append(imp.pop(0))\n",
    "            idx.append(idx.pop(0))  "
   ]
  }
 ],
 "metadata": {
  "kernelspec": {
   "display_name": "Python 3",
   "language": "python",
   "name": "python3"
  },
  "language_info": {
   "codemirror_mode": {
    "name": "ipython",
    "version": 3
   },
   "file_extension": ".py",
   "mimetype": "text/x-python",
   "name": "python",
   "nbconvert_exporter": "python",
   "pygments_lexer": "ipython3",
   "version": "3.7.7"
  }
 },
 "nbformat": 4,
 "nbformat_minor": 4
}
