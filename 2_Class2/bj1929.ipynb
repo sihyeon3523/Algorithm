{
 "cells": [
  {
   "cell_type": "code",
   "execution_count": 1,
   "metadata": {},
   "outputs": [],
   "source": [
    "# 소수 구하기\n",
    "# S2"
   ]
  },
  {
   "cell_type": "markdown",
   "metadata": {},
   "source": [
    "#### 소수 판별 알고리즘 중 가장 기본적인 형태\n",
    "- 2부터 X-1까지의 모든 자연수에 대하여 연산을 수행해야 한다 \n",
    "- 모든 수를 하나씩 확인한다는 점에서 시간 복잡도는 O(X)이다. "
   ]
  },
  {
   "cell_type": "code",
   "execution_count": 2,
   "metadata": {
    "scrolled": true
   },
   "outputs": [
    {
     "name": "stdout",
     "output_type": "stream",
     "text": [
      "3 16\n"
     ]
    }
   ],
   "source": [
    "# m 이상 n 이하의 소수가 하나 이상 있는 입력만 주어진다. \n",
    "# 한 줄에 하나씩, 증가하는 순서대로 소수를 출력한다\n",
    "\n",
    "m, n =  map(int, input().split())"
   ]
  },
  {
   "cell_type": "code",
   "execution_count": 16,
   "metadata": {},
   "outputs": [
    {
     "name": "stdout",
     "output_type": "stream",
     "text": [
      "3\n",
      "5\n",
      "7\n",
      "11\n",
      "13\n"
     ]
    }
   ],
   "source": [
    "for j in range(m, n):\n",
    "    b = 0\n",
    "    for i in range(2, j):\n",
    "        if (j%i) == 0:\n",
    "            b = 1\n",
    "    if b == 0:\n",
    "        print(j)"
   ]
  },
  {
   "cell_type": "markdown",
   "metadata": {},
   "source": [
    "#### 약수의 성질\n",
    "- 모든 약수가 가운데 약수를 기준으로 곱셈 연산에 대해 대칭을 이루는 것을 알 수 있다. \n",
    "- 예를 들어 16의 약수는 1,2,4,8,16 이다. \n",
    "- 이때 2 X 8 = 16은 8 X 2 = 16과 대칭이다. \n",
    "- 따라서 우리는 특정한 자연수의 모든 약수를 찾을 때 가운데 약수(제곱근) 까지만 확인하면 된다. \n",
    "- 예를 들어 16이 2로 나누어 떨어진다는 것은 8로도 나누어 떨어진다는 것을 의미한다. "
   ]
  },
  {
   "cell_type": "markdown",
   "metadata": {},
   "source": [
    "#### 소수의 판별 : 개선된 알고리즘 "
   ]
  },
  {
   "cell_type": "code",
   "execution_count": 17,
   "metadata": {},
   "outputs": [],
   "source": [
    "import math"
   ]
  },
  {
   "cell_type": "code",
   "execution_count": 18,
   "metadata": {},
   "outputs": [
    {
     "name": "stdout",
     "output_type": "stream",
     "text": [
      "False\n"
     ]
    }
   ],
   "source": [
    "def is_prime_number(x):\n",
    "    # 2부터 x의 제곱근까지의 모든 수를 확인하며 \n",
    "    for i in range(2, int(math.sqrt(x))+1):\n",
    "        # x가 해당 수로 나누어 떨어진다면 \n",
    "        if x % i == 0:\n",
    "            return False # 소수가 아님 \n",
    "    return True # 소수임\n",
    "\n",
    "print(is_prime_number(4))"
   ]
  },
  {
   "cell_type": "code",
   "execution_count": 19,
   "metadata": {},
   "outputs": [
    {
     "name": "stdout",
     "output_type": "stream",
     "text": [
      "True\n"
     ]
    }
   ],
   "source": [
    "print(is_prime_number(7))"
   ]
  },
  {
   "cell_type": "markdown",
   "metadata": {},
   "source": [
    "#### 1은 소수가 아니다\n",
    "- 소수의 정의 : 1보다 큰 자연수 중 1과 자기자시만을 약수로 가지는 수를 의미\n",
    "- 하지만 1은 1보다 크지 않기 때문에 1만 약수로 가기 때문에 1은 소수가 아니다"
   ]
  },
  {
   "cell_type": "code",
   "execution_count": 32,
   "metadata": {},
   "outputs": [
    {
     "name": "stdout",
     "output_type": "stream",
     "text": [
      "1 16\n",
      "2\n",
      "3\n",
      "5\n",
      "7\n",
      "11\n",
      "13\n"
     ]
    }
   ],
   "source": [
    "import math\n",
    "n, m = map(int, input().split())\n",
    "\n",
    "def is_prime_number(x):\n",
    "    if x == 1:\n",
    "        return False\n",
    "    for i in range(2, int(math.sqrt(x)) + 1):\n",
    "        if x%i == 0:\n",
    "            return False\n",
    "    return True \n",
    "        \n",
    "for i in range(n, m+1):\n",
    "    if is_prime_number(i):\n",
    "        print(i)"
   ]
  },
  {
   "cell_type": "code",
   "execution_count": 27,
   "metadata": {},
   "outputs": [
    {
     "name": "stdout",
     "output_type": "stream",
     "text": [
      "3 16\n",
      "5\n",
      "7\n",
      "9\n",
      "10\n",
      "11\n",
      "11\n",
      "13\n",
      "13\n",
      "14\n",
      "15\n",
      "16\n"
     ]
    }
   ],
   "source": [
    "import math\n",
    "n, m = map(int, input().split())\n",
    "\n",
    "for i in range(n, m+1):\n",
    "    for j in range(2, int(math.sqrt(i))+1):\n",
    "        if i%j != 0:\n",
    "            print(i)"
   ]
  },
  {
   "cell_type": "code",
   "execution_count": 30,
   "metadata": {},
   "outputs": [
    {
     "name": "stdout",
     "output_type": "stream",
     "text": [
      "1\n"
     ]
    }
   ],
   "source": [
    "for i in range(1,1):\n",
    "    print(i)\n",
    "print(1)"
   ]
  },
  {
   "cell_type": "code",
   "execution_count": null,
   "metadata": {},
   "outputs": [],
   "source": []
  }
 ],
 "metadata": {
  "kernelspec": {
   "display_name": "Python 3",
   "language": "python",
   "name": "python3"
  },
  "language_info": {
   "codemirror_mode": {
    "name": "ipython",
    "version": 3
   },
   "file_extension": ".py",
   "mimetype": "text/x-python",
   "name": "python",
   "nbconvert_exporter": "python",
   "pygments_lexer": "ipython3",
   "version": "3.7.7"
  }
 },
 "nbformat": 4,
 "nbformat_minor": 4
}
