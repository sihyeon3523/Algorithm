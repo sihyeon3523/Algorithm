{
 "cells": [
  {
   "cell_type": "markdown",
   "metadata": {},
   "source": [
    "## 문제풀이"
   ]
  },
  {
   "cell_type": "code",
   "execution_count": 43,
   "metadata": {},
   "outputs": [],
   "source": [
    "import pandas as pd"
   ]
  },
  {
   "cell_type": "code",
   "execution_count": 44,
   "metadata": {},
   "outputs": [],
   "source": [
    "df = pd.read_excel(\"테스트데이터.xlsx\")"
   ]
  },
  {
   "cell_type": "code",
   "execution_count": 48,
   "metadata": {},
   "outputs": [
    {
     "data": {
      "text/html": [
       "<div>\n",
       "<style scoped>\n",
       "    .dataframe tbody tr th:only-of-type {\n",
       "        vertical-align: middle;\n",
       "    }\n",
       "\n",
       "    .dataframe tbody tr th {\n",
       "        vertical-align: top;\n",
       "    }\n",
       "\n",
       "    .dataframe thead th {\n",
       "        text-align: right;\n",
       "    }\n",
       "</style>\n",
       "<table border=\"1\" class=\"dataframe\">\n",
       "  <thead>\n",
       "    <tr style=\"text-align: right;\">\n",
       "      <th></th>\n",
       "      <th>도시</th>\n",
       "      <th>시간</th>\n",
       "    </tr>\n",
       "  </thead>\n",
       "  <tbody>\n",
       "    <tr>\n",
       "      <th>0</th>\n",
       "      <td>아산</td>\n",
       "      <td>2022-03-04 12:22:40.000</td>\n",
       "    </tr>\n",
       "    <tr>\n",
       "      <th>1</th>\n",
       "      <td>아산</td>\n",
       "      <td>2022-03-02 12:22:40.000</td>\n",
       "    </tr>\n",
       "    <tr>\n",
       "      <th>2</th>\n",
       "      <td>천안</td>\n",
       "      <td>2022-03-06 12:32:40.000</td>\n",
       "    </tr>\n",
       "    <tr>\n",
       "      <th>3</th>\n",
       "      <td>천안</td>\n",
       "      <td>2022-03-07 12:22:39.995</td>\n",
       "    </tr>\n",
       "    <tr>\n",
       "      <th>4</th>\n",
       "      <td>천안</td>\n",
       "      <td>2022-04-21 12:22:40.000</td>\n",
       "    </tr>\n",
       "    <tr>\n",
       "      <th>5</th>\n",
       "      <td>수원</td>\n",
       "      <td>2022-05-09 12:22:40.000</td>\n",
       "    </tr>\n",
       "    <tr>\n",
       "      <th>6</th>\n",
       "      <td>수원</td>\n",
       "      <td>2022-03-10 12:22:39.995</td>\n",
       "    </tr>\n",
       "    <tr>\n",
       "      <th>7</th>\n",
       "      <td>수원</td>\n",
       "      <td>2022-04-11 12:22:40.000</td>\n",
       "    </tr>\n",
       "    <tr>\n",
       "      <th>8</th>\n",
       "      <td>수원</td>\n",
       "      <td>2022-03-10 12:33:40.000</td>\n",
       "    </tr>\n",
       "  </tbody>\n",
       "</table>\n",
       "</div>"
      ],
      "text/plain": [
       "   도시                      시간\n",
       "0  아산 2022-03-04 12:22:40.000\n",
       "1  아산 2022-03-02 12:22:40.000\n",
       "2  천안 2022-03-06 12:32:40.000\n",
       "3  천안 2022-03-07 12:22:39.995\n",
       "4  천안 2022-04-21 12:22:40.000\n",
       "5  수원 2022-05-09 12:22:40.000\n",
       "6  수원 2022-03-10 12:22:39.995\n",
       "7  수원 2022-04-11 12:22:40.000\n",
       "8  수원 2022-03-10 12:33:40.000"
      ]
     },
     "execution_count": 48,
     "metadata": {},
     "output_type": "execute_result"
    }
   ],
   "source": [
    "df"
   ]
  },
  {
   "cell_type": "code",
   "execution_count": 45,
   "metadata": {},
   "outputs": [
    {
     "data": {
      "text/plain": [
       "도시            object\n",
       "시간    datetime64[ns]\n",
       "dtype: object"
      ]
     },
     "execution_count": 45,
     "metadata": {},
     "output_type": "execute_result"
    }
   ],
   "source": [
    "# 데이터 타입 확인 \n",
    "df.dtypes"
   ]
  },
  {
   "cell_type": "code",
   "execution_count": 46,
   "metadata": {},
   "outputs": [],
   "source": [
    "도시 = df.도시.unique()"
   ]
  },
  {
   "cell_type": "code",
   "execution_count": 47,
   "metadata": {},
   "outputs": [
    {
     "data": {
      "text/plain": [
       "array(['아산', '천안', '수원'], dtype=object)"
      ]
     },
     "execution_count": 47,
     "metadata": {},
     "output_type": "execute_result"
    }
   ],
   "source": [
    "도시"
   ]
  },
  {
   "cell_type": "code",
   "execution_count": 62,
   "metadata": {},
   "outputs": [],
   "source": [
    "name_list = []"
   ]
  },
  {
   "cell_type": "code",
   "execution_count": 63,
   "metadata": {
    "scrolled": true
   },
   "outputs": [
    {
     "name": "stdout",
     "output_type": "stream",
     "text": [
      "아산001\n",
      "   도시                      시간\n",
      "6  수원 2022-03-10 12:22:39.995\n",
      "8  수원 2022-03-10 12:33:40.000\n",
      "7  수원 2022-04-11 12:22:40.000\n",
      "5  수원 2022-05-09 12:22:40.000\n",
      "\n",
      "천안002\n",
      "   도시                      시간\n",
      "6  수원 2022-03-10 12:22:39.995\n",
      "8  수원 2022-03-10 12:33:40.000\n",
      "7  수원 2022-04-11 12:22:40.000\n",
      "5  수원 2022-05-09 12:22:40.000\n",
      "\n",
      "수원003\n",
      "   도시                      시간\n",
      "6  수원 2022-03-10 12:22:39.995\n",
      "8  수원 2022-03-10 12:33:40.000\n",
      "7  수원 2022-04-11 12:22:40.000\n",
      "5  수원 2022-05-09 12:22:40.000\n",
      "\n",
      "['아산001.xlsx', '천안002.xlsx', '수원003.xlsx']\n"
     ]
    }
   ],
   "source": [
    "for i in range(len(도시)):\n",
    "    # leading zero로 이름 지정 \n",
    "    name1 = 도시[i] + str(i+1).zfill(3) \n",
    "    print(name1)\n",
    "    \n",
    "    # 각 도시별 새 데이터프레임 생성 \n",
    "    new = df[df['도시'] == 도시[i]] \n",
    "    \n",
    "    # 시간에 따라 오름차순으로 정렬 \n",
    "    ## without SettingWithCopyWarning : copy() 메서드를 통해 새로운 메모리에 부여\n",
    "    new = new.sort_values(by=['시간'], ascending=True).copy()\n",
    "    \n",
    "    # 엑셀 파일로 저장 \n",
    "    name.to_excel(\"{}.xlsx\".format(name1), index = False)\n",
    "    name_list.append(\"{}.xlsx\".format(name1))\n",
    "    \n",
    "    print(name)\n",
    "    print()\n",
    "print(name_list)"
   ]
  },
  {
   "cell_type": "code",
   "execution_count": 64,
   "metadata": {},
   "outputs": [
    {
     "name": "stdout",
     "output_type": "stream",
     "text": [
      "['아산001.xlsx', '천안002.xlsx', '수원003.xlsx']\n"
     ]
    }
   ],
   "source": [
    "print(name_list)"
   ]
  },
  {
   "cell_type": "markdown",
   "metadata": {},
   "source": [
    "## 개념"
   ]
  },
  {
   "cell_type": "markdown",
   "metadata": {},
   "source": [
    "### leading zero\n",
    "- 앞에 0이 있는 1과 10을 표시\n",
    "- .rjust() 이용하는 방법 (채울 수를 직접 정의 가능)\n",
    "- str.zfill() 이용하는 방법 (자동으로 0 채워짐)"
   ]
  },
  {
   "cell_type": "code",
   "execution_count": 16,
   "metadata": {},
   "outputs": [
    {
     "name": "stdout",
     "output_type": "stream",
     "text": [
      "01\n",
      "10\n"
     ]
    }
   ],
   "source": [
    "a = [1, 10]\n",
    "for num in a:\n",
    "    print(str(num).rjust(2, \"0\"))"
   ]
  },
  {
   "cell_type": "code",
   "execution_count": 17,
   "metadata": {},
   "outputs": [
    {
     "name": "stdout",
     "output_type": "stream",
     "text": [
      "01\n",
      "10\n"
     ]
    }
   ],
   "source": [
    "print(str(1).zfill(2))\n",
    "print(str(10).zfill(2))"
   ]
  },
  {
   "cell_type": "code",
   "execution_count": 19,
   "metadata": {},
   "outputs": [
    {
     "name": "stdout",
     "output_type": "stream",
     "text": [
      "001\n",
      "023\n"
     ]
    }
   ],
   "source": [
    "print(str(1).zfill(3))\n",
    "print(str(23).zfill(3))"
   ]
  },
  {
   "cell_type": "code",
   "execution_count": null,
   "metadata": {},
   "outputs": [],
   "source": [
    "# width : 지정된 문자열의 길이 지정, fillchar : 문자열을 채우려는 문자\n",
    "rjust(width = , fillchar = ) "
   ]
  }
 ],
 "metadata": {
  "kernelspec": {
   "display_name": "Python 3",
   "language": "python",
   "name": "python3"
  },
  "language_info": {
   "codemirror_mode": {
    "name": "ipython",
    "version": 3
   },
   "file_extension": ".py",
   "mimetype": "text/x-python",
   "name": "python",
   "nbconvert_exporter": "python",
   "pygments_lexer": "ipython3",
   "version": "3.7.7"
  }
 },
 "nbformat": 4,
 "nbformat_minor": 4
}
