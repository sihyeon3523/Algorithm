{
 "cells": [
  {
   "cell_type": "code",
   "execution_count": 7,
   "metadata": {},
   "outputs": [
    {
     "name": "stdout",
     "output_type": "stream",
     "text": [
      "5\n",
      "20 10 35 30 7\n",
      "7 35\n"
     ]
    }
   ],
   "source": [
    "n = int(input())\n",
    "\n",
    "mm = list(map(int, input().split())) \n",
    "# 이게 되네?! input 값의 타입을 바꾸고 싶을 때에는 map 함수를 사용\n",
    "\n",
    "print(min(mm), max(mm))"
   ]
  },
  {
   "cell_type": "code",
   "execution_count": 8,
   "metadata": {},
   "outputs": [
    {
     "name": "stdout",
     "output_type": "stream",
     "text": [
      "5\n",
      "20 10 35 30 7\n",
      "7 35\n"
     ]
    }
   ],
   "source": [
    "# 다른 사람 풀이\n",
    "cnt = int(input())\n",
    "numbers = list(map(int, input().split()))\n",
    "max_ = numbers[0]\n",
    "min_ = numbers[0]\n",
    "\n",
    "for i in numbers[1:]:\n",
    "    if i > max_:\n",
    "        max_ = i \n",
    "    elif i < min_:\n",
    "        min_ = i\n",
    "\n",
    "print(min_, max_)"
   ]
  },
  {
   "cell_type": "code",
   "execution_count": null,
   "metadata": {},
   "outputs": [],
   "source": []
  }
 ],
 "metadata": {
  "kernelspec": {
   "display_name": "Python 3",
   "language": "python",
   "name": "python3"
  },
  "language_info": {
   "codemirror_mode": {
    "name": "ipython",
    "version": 3
   },
   "file_extension": ".py",
   "mimetype": "text/x-python",
   "name": "python",
   "nbconvert_exporter": "python",
   "pygments_lexer": "ipython3",
   "version": "3.7.7"
  }
 },
 "nbformat": 4,
 "nbformat_minor": 4
}
