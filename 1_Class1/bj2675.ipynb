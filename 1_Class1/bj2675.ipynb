{
 "cells": [
  {
   "cell_type": "code",
   "execution_count": 1,
   "metadata": {},
   "outputs": [
    {
     "name": "stdout",
     "output_type": "stream",
     "text": [
      "2\n",
      "3 ABC\n",
      "3 ABC\n",
      "5 /HTP\n",
      "5 /HTP\n"
     ]
    }
   ],
   "source": [
    "# \n",
    "n = int(input())\n",
    "\n",
    "for i in range(n):\n",
    "    num_, str_ = input().split()\n",
    "    print(num_, str_)"
   ]
  },
  {
   "cell_type": "code",
   "execution_count": 4,
   "metadata": {},
   "outputs": [
    {
     "data": {
      "text/plain": [
       "['/HTP']"
      ]
     },
     "execution_count": 4,
     "metadata": {},
     "output_type": "execute_result"
    }
   ],
   "source": [
    "str_ "
   ]
  },
  {
   "cell_type": "code",
   "execution_count": 3,
   "metadata": {},
   "outputs": [
    {
     "name": "stdout",
     "output_type": "stream",
     "text": [
      "AAABBBCCC"
     ]
    }
   ],
   "source": [
    "# 문자열 하나하나씩 접근\n",
    "tmp = 'ABC'\n",
    "n = 3\n",
    "\n",
    "for i in range(len(tmp)):\n",
    "    print(tmp[i]*3, end = '')"
   ]
  },
  {
   "cell_type": "code",
   "execution_count": 5,
   "metadata": {},
   "outputs": [
    {
     "name": "stdout",
     "output_type": "stream",
     "text": [
      "3 ABC\n",
      "3\n"
     ]
    }
   ],
   "source": [
    "num, word = map(str, input().split())\n",
    "\n",
    "print(len(word))"
   ]
  },
  {
   "cell_type": "code",
   "execution_count": 12,
   "metadata": {},
   "outputs": [
    {
     "name": "stdout",
     "output_type": "stream",
     "text": [
      "2\n",
      "3 ABC\n",
      "5 /HTP\n",
      "AAABBBCCC\n",
      "\n",
      "/////HHHHHTTTTTPPPPP\n",
      "\n"
     ]
    }
   ],
   "source": [
    "N = int(input())\n",
    "\n",
    "nums = []\n",
    "words = []\n",
    "for i in range(N):\n",
    "    num, word = map(str, input().split())\n",
    "    nums.append(int(num))\n",
    "    words.append(word)\n",
    "    \n",
    "for j in range(len(words)):\n",
    "    for k in range(len(words[j])):\n",
    "        print(words[j][k]*nums[j], end = '')\n",
    "    print(\"\\n\")"
   ]
  },
  {
   "cell_type": "code",
   "execution_count": 16,
   "metadata": {},
   "outputs": [
    {
     "name": "stdout",
     "output_type": "stream",
     "text": [
      "h\n",
      "s\n",
      "f\n"
     ]
    }
   ],
   "source": [
    "for i in 'hsf':\n",
    "    print(i)\n",
    "    # 문자열이 출력되네..? "
   ]
  },
  {
   "cell_type": "code",
   "execution_count": null,
   "metadata": {},
   "outputs": [],
   "source": [
    "n = int(input())\n",
    "\n",
    "for i in range(n):\n",
    "    "
   ]
  }
 ],
 "metadata": {
  "kernelspec": {
   "display_name": "Python 3",
   "language": "python",
   "name": "python3"
  },
  "language_info": {
   "codemirror_mode": {
    "name": "ipython",
    "version": 3
   },
   "file_extension": ".py",
   "mimetype": "text/x-python",
   "name": "python",
   "nbconvert_exporter": "python",
   "pygments_lexer": "ipython3",
   "version": "3.7.7"
  }
 },
 "nbformat": 4,
 "nbformat_minor": 4
}
