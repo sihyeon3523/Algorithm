{
 "cells": [
  {
   "cell_type": "code",
   "execution_count": 2,
   "metadata": {},
   "outputs": [
    {
     "name": "stdout",
     "output_type": "stream",
     "text": [
      "3\n",
      "29\n",
      "38\n",
      "12\n",
      "57\n",
      "74\n",
      "40\n",
      "85\n",
      "61\n",
      "85\n",
      "7\n"
     ]
    }
   ],
   "source": [
    "max_tmp = int(input())\n",
    "idx = 0\n",
    "for i in range(1,9):\n",
    "    a = int(input())\n",
    "    if max_tmp < a:\n",
    "        max_tmp = a\n",
    "        idx = i\n",
    "    else:\n",
    "        pass\n",
    "\n",
    "print(max_tmp)\n",
    "print(idx+1)"
   ]
  },
  {
   "cell_type": "code",
   "execution_count": null,
   "metadata": {},
   "outputs": [],
   "source": [
    "max_value = 0\n",
    "max_index = 0\n",
    "\n",
    "for i in range(9):\n",
    "    a = int(input())\n",
    "    \n",
    "    if max_value <= a:\n",
    "        max_value = a\n",
    "        max_index = i+1\n",
    "\n",
    "print(max_value)\n",
    "print(max_index)"
   ]
  }
 ],
 "metadata": {
  "kernelspec": {
   "display_name": "Python 3",
   "language": "python",
   "name": "python3"
  },
  "language_info": {
   "codemirror_mode": {
    "name": "ipython",
    "version": 3
   },
   "file_extension": ".py",
   "mimetype": "text/x-python",
   "name": "python",
   "nbconvert_exporter": "python",
   "pygments_lexer": "ipython3",
   "version": "3.7.7"
  }
 },
 "nbformat": 4,
 "nbformat_minor": 4
}
