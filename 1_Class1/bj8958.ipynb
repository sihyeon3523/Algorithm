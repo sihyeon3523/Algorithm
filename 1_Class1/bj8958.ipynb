{
 "cells": [
  {
   "cell_type": "code",
   "execution_count": 1,
   "metadata": {},
   "outputs": [
    {
     "name": "stdout",
     "output_type": "stream",
     "text": [
      "5\n",
      "OOXXOXXOOO\n",
      "10\n",
      "OOXXOOXXOO\n",
      "9\n",
      "OXOXOXOXOXOXOX\n",
      "7\n",
      "OOOOOOOOOO\n",
      "55\n",
      "OOOOXOOOOXOOOOX\n",
      "30\n"
     ]
    }
   ],
   "source": [
    "n = int(input())\n",
    "\n",
    "for i in range(n):\n",
    "    result = input()\n",
    "    score = []\n",
    "    for i in result:\n",
    "        if i == 'X':\n",
    "            score.append(0)\n",
    "        else:\n",
    "            score.append(1)\n",
    "\n",
    "    for i in range(1, len(score)):\n",
    "        if score[i] != 0 and score[i-1] != 0:\n",
    "            score[i] += score[i-1]\n",
    "        else:\n",
    "            pass\n",
    "    print(sum(score))"
   ]
  },
  {
   "cell_type": "code",
   "execution_count": null,
   "metadata": {},
   "outputs": [],
   "source": [
    "n = int(input())\n",
    "\n",
    "for i in range(n):\n",
    "    num = input()\n",
    "    score = 0\n",
    "    cnt = 0\n",
    "    for j in range(len(num)):\n",
    "        if num[j] == 'O':\n",
    "            cnt += 1\n",
    "            score += cnt\n",
    "        else:\n",
    "            score += 0\n",
    "            cnt = 0\n",
    "    print(score)"
   ]
  }
 ],
 "metadata": {
  "kernelspec": {
   "display_name": "Python 3",
   "language": "python",
   "name": "python3"
  },
  "language_info": {
   "codemirror_mode": {
    "name": "ipython",
    "version": 3
   },
   "file_extension": ".py",
   "mimetype": "text/x-python",
   "name": "python",
   "nbconvert_exporter": "python",
   "pygments_lexer": "ipython3",
   "version": "3.7.7"
  }
 },
 "nbformat": 4,
 "nbformat_minor": 4
}
