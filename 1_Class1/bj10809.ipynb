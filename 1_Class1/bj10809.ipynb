{
 "cells": [
  {
   "cell_type": "code",
   "execution_count": 22,
   "metadata": {},
   "outputs": [
    {
     "name": "stdout",
     "output_type": "stream",
     "text": [
      "baekjoon\n",
      "10-1-12-1-1-1-143-1-175-1-1-1-1-1-1-1-1-1-1-1"
     ]
    }
   ],
   "source": [
    "word = input()\n",
    "alphabet = list(range(97, 123))\n",
    "\n",
    "# find : 문자열에서만 사용 가능한 함수 \n",
    "# index : 문자열 뿐만 아니라 리스트, 튜플과 같은 반복 가능한 \n",
    "# iterable 자료형에서도\n",
    "# 찾는 문자의 인덱스를 반환하는 함수 index는 함수는 문자열 안에 포함되지\n",
    "# 않을 경우 AttributeError가 발생 \n",
    "\n",
    "for x in alphabet:\n",
    "    print(word.find(chr(x)), end = ' ') # chr : 아스키코드를 문자열로 변환 "
   ]
  },
  {
   "cell_type": "code",
   "execution_count": null,
   "metadata": {},
   "outputs": [],
   "source": []
  }
 ],
 "metadata": {
  "kernelspec": {
   "display_name": "Python 3",
   "language": "python",
   "name": "python3"
  },
  "language_info": {
   "codemirror_mode": {
    "name": "ipython",
    "version": 3
   },
   "file_extension": ".py",
   "mimetype": "text/x-python",
   "name": "python",
   "nbconvert_exporter": "python",
   "pygments_lexer": "ipython3",
   "version": "3.7.7"
  }
 },
 "nbformat": 4,
 "nbformat_minor": 4
}
