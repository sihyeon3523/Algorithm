{
 "cells": [
  {
   "cell_type": "code",
   "execution_count": 2,
   "metadata": {},
   "outputs": [
    {
     "name": "stdout",
     "output_type": "stream",
     "text": [
      "0 4 2 5 6\n",
      "1\n"
     ]
    }
   ],
   "source": [
    "# 2475\n",
    "num = list(map(int, input().split()))\n",
    "\n",
    "sum = 0\n",
    "for i in range(len(num)):\n",
    "    sum += num[i]**2\n",
    "\n",
    "print(sum%10)"
   ]
  },
  {
   "cell_type": "code",
   "execution_count": 3,
   "metadata": {},
   "outputs": [
    {
     "name": "stdout",
     "output_type": "stream",
     "text": [
      "0 4 2 5 6\n",
      "1\n"
     ]
    }
   ],
   "source": [
    "num = 0\n",
    "for i in list(map(int, input().split())):\n",
    "    num += i**2\n",
    "print(num%10)"
   ]
  },
  {
   "cell_type": "code",
   "execution_count": 6,
   "metadata": {},
   "outputs": [
    {
     "name": "stdout",
     "output_type": "stream",
     "text": [
      " The first character is a blank\n",
      "['The', 'first', 'character', 'is', 'a', 'blank']\n"
     ]
    }
   ],
   "source": [
    "#1152\n",
    "# map 함수는 기본인 str이 아닌 int 로 맞춰줄 때 사용한다 \n",
    "sent = input().split() # 기본이 str 형태이기 때문에 split하면 알아서 list가 생성된다.\n",
    "print(sent)"
   ]
  },
  {
   "cell_type": "code",
   "execution_count": null,
   "metadata": {},
   "outputs": [],
   "source": []
  }
 ],
 "metadata": {
  "kernelspec": {
   "display_name": "Python 3",
   "language": "python",
   "name": "python3"
  },
  "language_info": {
   "codemirror_mode": {
    "name": "ipython",
    "version": 3
   },
   "file_extension": ".py",
   "mimetype": "text/x-python",
   "name": "python",
   "nbconvert_exporter": "python",
   "pygments_lexer": "ipython3",
   "version": "3.7.7"
  }
 },
 "nbformat": 4,
 "nbformat_minor": 4
}
